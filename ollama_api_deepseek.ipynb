{
 "cells": [
  {
   "cell_type": "code",
   "execution_count": null,
   "metadata": {},
   "outputs": [],
   "source": [
    "import requests\n",
    "import json\n",
    "import re"
   ]
  },
  {
   "cell_type": "code",
   "execution_count": null,
   "metadata": {},
   "outputs": [],
   "source": [
    "api_url = \"http://localhost:11434/api/generate\"\n",
    "model_data = {\"model\": \"deepseek-r1:8b\"}"
   ]
  },
  {
   "cell_type": "code",
   "execution_count": null,
   "metadata": {},
   "outputs": [],
   "source": [
    "query_sql = (\n",
    "    \"WITH OM AS ( \"\n",
    "    \"    SELECT * from Orders_Main\" \n",
    "    \") \"\n",
    "    \"SELECT \"\n",
    "    \" o.order_id, \"\n",
    "    \",c.customer_id\"\n",
    "    \",c.first_name\"\n",
    "    \",c.last_name\"\n",
    "    \",od.product_id\"\n",
    "    \",p.product_name\"\n",
    "    \",p.price\"\n",
    "    \",od.quantity\"\n",
    "    \",s.shipment_id\"\n",
    "    \",s.shipment_date\"\n",
    "    \",a.address_line1\"\n",
    "    \",a.city\"\n",
    "    \",a.state\"\n",
    "    \",a.zip_code\"\n",
    "    \",pay.payment_id\"\n",
    "    \",pay.payment_date\"\n",
    "    \",pay.amount\"\n",
    "    \"FROM \"\n",
    "    \"OM o \"\n",
    "    \"JOIN Customers c ON o.customer_id = c.customer_id \"\n",
    "    \"JOIN Order_Details od ON o.order_id = od.order_id \"\n",
    "    \"JOIN Products p ON od.product_id = p.product_id \"\n",
    "    \"JOIN Shipments s ON o.order_id = s.order_id \"\n",
    "    \"JOIN Addresses a ON c.address_id = a.address_id \"\n",
    "    \"JOIN Payments pay ON o.order_id = pay.order_id \"\n",
    "    \"WHERE \"\n",
    "    \"c.customer_id IN ( \"\n",
    "    \"        SELECT customer_id \"\n",
    "    \"        FROM Customers_Main \"\n",
    "    \"        WHERE state = 'California' ) AND\"\n",
    "    \"p.price > ( \"\n",
    "    \"        SELECT AVG(price) \"\n",
    "    \"        FROM Products_Main ) AND\"\n",
    "    \"o.order_date >= DATE('2024-01-01') \"\n",
    "    \"ORDER BY \"\n",
    "    \" o.order_id\"\n",
    "    \",od.product_id; \"\n",
    ")\n",
    "prompt = (\n",
    "    \"Extrae solo los nombres de las tablas de esta consulta SQL y devuélvelos separados por comas, sin explicaciones ni otro texto: \"\n",
    "    \"'\"\n",
    "    f\"{query_sql}\"\n",
    "    \"'.\"\n",
    "    \"Ten en cuenta las tablas que estén en subconsultas y CTE. \"\n",
    "    \"Verifica que los nombres de las tablas no correspondan a alias.\"\n",
    ")\n",
    "\n",
    "payload = {**model_data, \"prompt\": prompt}\n",
    "response = requests.post(api_url, json=payload)"
   ]
  },
  {
   "cell_type": "code",
   "execution_count": null,
   "metadata": {},
   "outputs": [],
   "source": [
    "if response.status_code == 200:\n",
    "    text_response=\"\"\n",
    "    i=0\n",
    "    lines = response.text.splitlines()\n",
    "    for line in lines:\n",
    "        json_data = json.loads(line)\n",
    "        text_response += json_data[\"response\"]\n",
    "        \n",
    "    print(\"Respuesta completa:\", text_response)\n",
    "\n",
    "    print(\"Respuesta corta:\", re.sub(r\"<think>.*?</think>\", \"\", text_response, flags=re.DOTALL)[1:])\n",
    "else:\n",
    "    print(f\"Error en la solicitud: {response.status_code}, {response.text}\")"
   ]
  }
 ],
 "metadata": {
  "kernelspec": {
   "display_name": "Python 3",
   "language": "python",
   "name": "python3"
  },
  "language_info": {
   "codemirror_mode": {
    "name": "ipython",
    "version": 3
   },
   "file_extension": ".py",
   "mimetype": "text/x-python",
   "name": "python",
   "nbconvert_exporter": "python",
   "pygments_lexer": "ipython3",
   "version": "3.11.3"
  }
 },
 "nbformat": 4,
 "nbformat_minor": 2
}
